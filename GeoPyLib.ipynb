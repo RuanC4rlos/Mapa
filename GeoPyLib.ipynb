{
 "cells": [
  {
   "cell_type": "code",
   "execution_count": 15,
   "metadata": {},
   "outputs": [],
   "source": [
    "import folium\n",
    "\n",
    "class Map:\n",
    "    def __init__(self, center, zoom):\n",
    "        self.center = center\n",
    "        self.zoom = zoom\n",
    "        self.layers = []\n",
    "    \n",
    "    def add_layer(self, layer):\n",
    "        self.layers.append(layer)\n",
    "    \n",
    "    def remove_layer(self, layer):\n",
    "        self.layers.remove(layer)\n",
    "    \n",
    "    def set_zoom(self, zoom):\n",
    "        self.zoom = zoom\n",
    "    \n",
    "    def set_center(self, center):\n",
    "        self.center = center\n",
    "    \n",
    "    def create_marcador(self,lat,lon,titulo):\n",
    "        marker = folium.Marker(location=[lat, lon], popup=titulo)\n",
    "        return marker\n",
    "    \n",
    "    def show(self):\n",
    "        m = folium.Map(location=[self.center[0], self.center[1]], zoom_start=self.zoom)\n",
    "        for layer in self.layers:\n",
    "            m.add_child(layer)\n",
    "        return m"
   ]
  },
  {
   "attachments": {},
   "cell_type": "markdown",
   "metadata": {},
   "source": [
    "## VISUALIZAR MAPA"
   ]
  },
  {
   "cell_type": "code",
   "execution_count": 21,
   "metadata": {},
   "outputs": [
    {
     "data": {
      "text/html": [
       "<div style=\"width:100%;\"><div style=\"position:relative;width:100%;height:0;padding-bottom:60%;\"><span style=\"color:#565656\">Make this Notebook Trusted to load map: File -> Trust Notebook</span><iframe srcdoc=\"&lt;!DOCTYPE html&gt;\n",
       "&lt;html&gt;\n",
       "&lt;head&gt;\n",
       "    \n",
       "    &lt;meta http-equiv=&quot;content-type&quot; content=&quot;text/html; charset=UTF-8&quot; /&gt;\n",
       "    \n",
       "        &lt;script&gt;\n",
       "            L_NO_TOUCH = false;\n",
       "            L_DISABLE_3D = false;\n",
       "        &lt;/script&gt;\n",
       "    \n",
       "    &lt;style&gt;html, body {width: 100%;height: 100%;margin: 0;padding: 0;}&lt;/style&gt;\n",
       "    &lt;style&gt;#map {position:absolute;top:0;bottom:0;right:0;left:0;}&lt;/style&gt;\n",
       "    &lt;script src=&quot;https://cdn.jsdelivr.net/npm/leaflet@1.9.3/dist/leaflet.js&quot;&gt;&lt;/script&gt;\n",
       "    &lt;script src=&quot;https://code.jquery.com/jquery-1.12.4.min.js&quot;&gt;&lt;/script&gt;\n",
       "    &lt;script src=&quot;https://cdn.jsdelivr.net/npm/bootstrap@5.2.2/dist/js/bootstrap.bundle.min.js&quot;&gt;&lt;/script&gt;\n",
       "    &lt;script src=&quot;https://cdnjs.cloudflare.com/ajax/libs/Leaflet.awesome-markers/2.0.2/leaflet.awesome-markers.js&quot;&gt;&lt;/script&gt;\n",
       "    &lt;link rel=&quot;stylesheet&quot; href=&quot;https://cdn.jsdelivr.net/npm/leaflet@1.9.3/dist/leaflet.css&quot;/&gt;\n",
       "    &lt;link rel=&quot;stylesheet&quot; href=&quot;https://cdn.jsdelivr.net/npm/bootstrap@5.2.2/dist/css/bootstrap.min.css&quot;/&gt;\n",
       "    &lt;link rel=&quot;stylesheet&quot; href=&quot;https://netdna.bootstrapcdn.com/bootstrap/3.0.0/css/bootstrap.min.css&quot;/&gt;\n",
       "    &lt;link rel=&quot;stylesheet&quot; href=&quot;https://cdn.jsdelivr.net/npm/@fortawesome/fontawesome-free@6.2.0/css/all.min.css&quot;/&gt;\n",
       "    &lt;link rel=&quot;stylesheet&quot; href=&quot;https://cdnjs.cloudflare.com/ajax/libs/Leaflet.awesome-markers/2.0.2/leaflet.awesome-markers.css&quot;/&gt;\n",
       "    &lt;link rel=&quot;stylesheet&quot; href=&quot;https://cdn.jsdelivr.net/gh/python-visualization/folium/folium/templates/leaflet.awesome.rotate.min.css&quot;/&gt;\n",
       "    \n",
       "            &lt;meta name=&quot;viewport&quot; content=&quot;width=device-width,\n",
       "                initial-scale=1.0, maximum-scale=1.0, user-scalable=no&quot; /&gt;\n",
       "            &lt;style&gt;\n",
       "                #map_ed2f8abedbdfb6b3a8563e81b4dc3ada {\n",
       "                    position: relative;\n",
       "                    width: 100.0%;\n",
       "                    height: 100.0%;\n",
       "                    left: 0.0%;\n",
       "                    top: 0.0%;\n",
       "                }\n",
       "                .leaflet-container { font-size: 1rem; }\n",
       "            &lt;/style&gt;\n",
       "        \n",
       "&lt;/head&gt;\n",
       "&lt;body&gt;\n",
       "    \n",
       "    \n",
       "            &lt;div class=&quot;folium-map&quot; id=&quot;map_ed2f8abedbdfb6b3a8563e81b4dc3ada&quot; &gt;&lt;/div&gt;\n",
       "        \n",
       "&lt;/body&gt;\n",
       "&lt;script&gt;\n",
       "    \n",
       "    \n",
       "            var map_ed2f8abedbdfb6b3a8563e81b4dc3ada = L.map(\n",
       "                &quot;map_ed2f8abedbdfb6b3a8563e81b4dc3ada&quot;,\n",
       "                {\n",
       "                    center: [-22.9035, -43.2096],\n",
       "                    crs: L.CRS.EPSG3857,\n",
       "                    zoom: 5,\n",
       "                    zoomControl: true,\n",
       "                    preferCanvas: false,\n",
       "                }\n",
       "            );\n",
       "\n",
       "            \n",
       "\n",
       "        \n",
       "    \n",
       "            var tile_layer_bd3cbaf71d0f4e6aba45d3bc0541c436 = L.tileLayer(\n",
       "                &quot;https://{s}.tile.openstreetmap.org/{z}/{x}/{y}.png&quot;,\n",
       "                {&quot;attribution&quot;: &quot;Data by \\u0026copy; \\u003ca target=\\&quot;_blank\\&quot; href=\\&quot;http://openstreetmap.org\\&quot;\\u003eOpenStreetMap\\u003c/a\\u003e, under \\u003ca target=\\&quot;_blank\\&quot; href=\\&quot;http://www.openstreetmap.org/copyright\\&quot;\\u003eODbL\\u003c/a\\u003e.&quot;, &quot;detectRetina&quot;: false, &quot;maxNativeZoom&quot;: 18, &quot;maxZoom&quot;: 18, &quot;minZoom&quot;: 0, &quot;noWrap&quot;: false, &quot;opacity&quot;: 1, &quot;subdomains&quot;: &quot;abc&quot;, &quot;tms&quot;: false}\n",
       "            ).addTo(map_ed2f8abedbdfb6b3a8563e81b4dc3ada);\n",
       "        \n",
       "    \n",
       "            var marker_4c5ca972742975c6b2ee4d2cb74059d7 = L.marker(\n",
       "                [-20.9035, -43.2096],\n",
       "                {}\n",
       "            ).addTo(map_ed2f8abedbdfb6b3a8563e81b4dc3ada);\n",
       "        \n",
       "    \n",
       "        var popup_16882f4e21323195191f37f29481ae04 = L.popup({&quot;maxWidth&quot;: &quot;100%&quot;});\n",
       "\n",
       "        \n",
       "            \n",
       "                var html_87da03b3ed7cd53c3f42f9ba7bd7be48 = $(`&lt;div id=&quot;html_87da03b3ed7cd53c3f42f9ba7bd7be48&quot; style=&quot;width: 100.0%; height: 100.0%;&quot;&gt;Hello, world!&lt;/div&gt;`)[0];\n",
       "                popup_16882f4e21323195191f37f29481ae04.setContent(html_87da03b3ed7cd53c3f42f9ba7bd7be48);\n",
       "            \n",
       "        \n",
       "\n",
       "        marker_4c5ca972742975c6b2ee4d2cb74059d7.bindPopup(popup_16882f4e21323195191f37f29481ae04)\n",
       "        ;\n",
       "\n",
       "        \n",
       "    \n",
       "    \n",
       "            var marker_4c510f5f7ac55957357cb5fd3067b047 = L.marker(\n",
       "                [-22.9035, -43.2096],\n",
       "                {}\n",
       "            ).addTo(map_ed2f8abedbdfb6b3a8563e81b4dc3ada);\n",
       "        \n",
       "    \n",
       "        var popup_17d8b2247183afead647d84c46e69cb5 = L.popup({&quot;maxWidth&quot;: &quot;100%&quot;});\n",
       "\n",
       "        \n",
       "            \n",
       "                var html_2d33117d661d86da951619cd67e8692b = $(`&lt;div id=&quot;html_2d33117d661d86da951619cd67e8692b&quot; style=&quot;width: 100.0%; height: 100.0%;&quot;&gt;hehe&lt;/div&gt;`)[0];\n",
       "                popup_17d8b2247183afead647d84c46e69cb5.setContent(html_2d33117d661d86da951619cd67e8692b);\n",
       "            \n",
       "        \n",
       "\n",
       "        marker_4c510f5f7ac55957357cb5fd3067b047.bindPopup(popup_17d8b2247183afead647d84c46e69cb5)\n",
       "        ;\n",
       "\n",
       "        \n",
       "    \n",
       "&lt;/script&gt;\n",
       "&lt;/html&gt;\" style=\"position:absolute;width:100%;height:100%;left:0;top:0;border:none !important;\" allowfullscreen webkitallowfullscreen mozallowfullscreen></iframe></div></div>"
      ],
      "text/plain": [
       "<folium.folium.Map at 0x15f31a1b160>"
      ]
     },
     "execution_count": 21,
     "metadata": {},
     "output_type": "execute_result"
    }
   ],
   "source": [
    "#VISUALIZAR MAPA\n",
    "m = Map(center=[-22.9035, -43.2096], zoom=10)\n",
    "lat=-20.9035 \n",
    "lon=-43.2096\n",
    "popup='Hello, world!'\n",
    "marker = m.creat_marcador(lat,lon,popup)\n",
    "m.add_layer(marker)\n",
    "lat=-22.9035 \n",
    "lon=-43.2096\n",
    "popup='hehe'\n",
    "marker = m.creat_marcador(lat,lon,popup)\n",
    "m.add_layer(marker)\n",
    "m.set_zoom(5)\n",
    "m.show()"
   ]
  },
  {
   "cell_type": "code",
   "execution_count": 27,
   "metadata": {},
   "outputs": [],
   "source": [
    "import math\n",
    "\n",
    "class Coordinate:\n",
    "    def __init__(self, lat, lon, alt=None):\n",
    "        self.latitude = lat\n",
    "        self.longitude = lon\n",
    "        self.altitude = alt\n",
    "        \n",
    "    def distance(self, other, algorithm='euclidean'):\n",
    "        # calcula a distância entre esta coordenada e outra, usando o algoritmo especificado\n",
    "        if algorithm == 'euclidean':\n",
    "            # fórmula da distância euclidiana entre dois pontos\n",
    "            return math.sqrt((self.latitude - other.latitude)**2 + (self.longitude - other.longitude)**2)\n",
    "        elif algorithm == 'haversine':\n",
    "            # fórmula de Haversine para distância entre dois pontos em uma esfera (como a Terra)\n",
    "            R = 6371  # raio médio da Terra em quilômetros\n",
    "            d_lat = math.radians(other.latitude - self.latitude)\n",
    "            d_lon = math.radians(other.longitude - self.longitude)\n",
    "            lat1 = math.radians(self.latitude)\n",
    "            lat2 = math.radians(other.latitude)\n",
    "            a = math.sin(d_lat/2)**2 + math.sin(d_lon/2)**2 * math.cos(lat1) * math.cos(lat2)\n",
    "            c = 2 * math.atan2(math.sqrt(a), math.sqrt(1-a))\n",
    "            return R * c\n",
    "        else:\n",
    "            raise ValueError(f\"Unknown distance algorithm: {algorithm}\")\n"
   ]
  },
  {
   "attachments": {},
   "cell_type": "markdown",
   "metadata": {},
   "source": [
    "## CALCULA DISTANCIA ENTRE DOIS PONTOS"
   ]
  },
  {
   "cell_type": "code",
   "execution_count": 28,
   "metadata": {},
   "outputs": [
    {
     "name": "stdout",
     "output_type": "stream",
     "text": [
      "Distância de Haversine: 360.75 km\n"
     ]
    }
   ],
   "source": [
    "# criando duas coordenadas\n",
    "p1 = Coordinate(lat=-22.906847, lon=-43.172897)\n",
    "p2 = Coordinate(lat=-23.5505, lon=-46.6333)\n",
    "\n",
    "# calculando a distância de Haversine entre as duas coordenadas\n",
    "dist_haversine = p1.distance(p2, algorithm='haversine')\n",
    "print(f\"Distância de Haversine: {dist_haversine:.2f} km\")"
   ]
  },
  {
   "cell_type": "code",
   "execution_count": 14,
   "metadata": {},
   "outputs": [],
   "source": [
    "import requests\n",
    "\n",
    "class Location:\n",
    "    def __init__(self, name, address, latitude, longitude):\n",
    "        self.name = name\n",
    "        self.address = address\n",
    "        self.latitude = latitude\n",
    "        self.longitude = longitude\n",
    "        self.temperature = None\n",
    "        self.humidity = None\n",
    "        self.pressure = None\n",
    "\n",
    "    def set_weather(self, api_key,lat,lon):\n",
    "        url = f\"https://api.openweathermap.org/data/2.5/weather?lat={lat}&lon={lon}&appid={api_key}\"\n",
    "        response = requests.get(url)\n",
    "        data = response.json()\n",
    "        \n",
    "        if 'main' in data:\n",
    "            self.temperature = data[\"main\"][\"temp\"]\n",
    "            self.humidity = data[\"main\"][\"humidity\"]\n",
    "            self.pressure = data[\"main\"][\"pressure\"]\n",
    "        else:\n",
    "            self.temperature = None\n",
    "            self.humidity = None\n",
    "            self.pressure = None\n",
    "\n",
    "    def get_coordinates(self):\n",
    "        return self.latitude, self.longitude\n"
   ]
  },
  {
   "attachments": {},
   "cell_type": "markdown",
   "metadata": {},
   "source": [
    "## DADOS METEROLOGICOS DA LOCALIZAÇÃO"
   ]
  },
  {
   "cell_type": "code",
   "execution_count": 15,
   "metadata": {},
   "outputs": [
    {
     "name": "stdout",
     "output_type": "stream",
     "text": [
      "Temperatura de São Paulo: 298.6°C\n",
      "Humidade de São Paulo: 75%\n",
      "Pressão de São Paulo: 999 hPa\n"
     ]
    }
   ],
   "source": [
    "# cria um objeto Location para a cidade de Nova York\n",
    "lat =-23.5505 \n",
    "lon=-46.6333\n",
    "nyc = Location(\"São Paulo\", \"São Paulo, Brasil\", lat,lon)\n",
    "\n",
    "# obtém as informações meteorológicas para a cidade de Nova York\n",
    "nyc.set_weather('1fad30734db859e67fe4b73213276fbf',lat ,lon)\n",
    "\n",
    "# exibe as informações meteorológicas\n",
    "print(f\"Temperatura de {nyc.name}: {nyc.temperature}°C\")\n",
    "print(f\"Humidade de {nyc.name}: {nyc.humidity}%\")\n",
    "print(f\"Pressão de {nyc.name}: {nyc.pressure} hPa\")\n"
   ]
  }
 ],
 "metadata": {
  "kernelspec": {
   "display_name": "Python 3",
   "language": "python",
   "name": "python3"
  },
  "language_info": {
   "codemirror_mode": {
    "name": "ipython",
    "version": 3
   },
   "file_extension": ".py",
   "mimetype": "text/x-python",
   "name": "python",
   "nbconvert_exporter": "python",
   "pygments_lexer": "ipython3",
   "version": "3.10.10"
  },
  "orig_nbformat": 4,
  "vscode": {
   "interpreter": {
    "hash": "ede388bf467786bd40840307ea15c081772b143751f4783d1ec3794cbd01c803"
   }
  }
 },
 "nbformat": 4,
 "nbformat_minor": 2
}
